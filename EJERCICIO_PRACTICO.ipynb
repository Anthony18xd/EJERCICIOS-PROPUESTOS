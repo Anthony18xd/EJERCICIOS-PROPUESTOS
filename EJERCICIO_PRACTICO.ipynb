{
  "nbformat": 4,
  "nbformat_minor": 0,
  "metadata": {
    "colab": {
      "provenance": [],
      "authorship_tag": "ABX9TyNRWqW1ihtKl5uDejq78HML",
      "include_colab_link": true
    },
    "kernelspec": {
      "name": "python3",
      "display_name": "Python 3"
    },
    "language_info": {
      "name": "python"
    }
  },
  "cells": [
    {
      "cell_type": "markdown",
      "metadata": {
        "id": "view-in-github",
        "colab_type": "text"
      },
      "source": [
        "<a href=\"https://colab.research.google.com/github/Anthony18xd/EJERCICIOS-PROPUESTOS/blob/main/EJERCICIO_PRACTICO.ipynb\" target=\"_parent\"><img src=\"https://colab.research.google.com/assets/colab-badge.svg\" alt=\"Open In Colab\"/></a>"
      ]
    },
    {
      "cell_type": "code",
      "execution_count": 3,
      "metadata": {
        "colab": {
          "base_uri": "https://localhost:8080/"
        },
        "id": "wYZOAj4xZeOJ",
        "outputId": "76491856-9df1-4aec-c251-287a7d10dec3"
      },
      "outputs": [
        {
          "output_type": "stream",
          "name": "stdout",
          "text": [
            "['Matemáticas' 'Física' 'Química' 'Historia' 'Lengua']\n"
          ]
        }
      ],
      "source": [
        "import numpy as np\n",
        "\n",
        "asignaturas = np.array([\"Matemáticas\", \"Física\", \"Química\", \"Historia\", \"Lengua\"])\n",
        "print(asignaturas)"
      ]
    },
    {
      "cell_type": "code",
      "source": [
        "asignaturas = np.array([\"Matemáticas\", \"Física\", \"Química\", \"Historia\", \"Lengua\"])\n",
        "for asignatura in asignaturas:\n",
        "    f\"Yo estudio {asignatura}\"\n",
        "    print(f\"Yo estudio {asignatura}\")"
      ],
      "metadata": {
        "colab": {
          "base_uri": "https://localhost:8080/"
        },
        "id": "uH6ZJG_0Zu0B",
        "outputId": "838c820b-6eb3-42a0-a096-b0dede0284fe"
      },
      "execution_count": 4,
      "outputs": [
        {
          "output_type": "stream",
          "name": "stdout",
          "text": [
            "Yo estudio Matemáticas\n",
            "Yo estudio Física\n",
            "Yo estudio Química\n",
            "Yo estudio Historia\n",
            "Yo estudio Lengua\n"
          ]
        }
      ]
    },
    {
      "cell_type": "code",
      "source": [
        "asignaturas = np.array([\"Matemáticas\", \"Física\", \"Química\", \"Historia\", \"Lengua\"])\n",
        "notas = np.zeros(len(asignaturas))\n",
        "\n",
        "for i, asignatura in enumerate(asignaturas):\n",
        "    nota = float(input(f\"¿Qué nota has sacado en {asignatura}? \"))\n",
        "    notas[i] = nota\n",
        "\n",
        "resultados = [f\"En {asignaturas[i]} has sacado {notas[i]}\" for i in range(len(asignaturas))]\n",
        "nota_media = np.mean(notas)"
      ],
      "metadata": {
        "colab": {
          "base_uri": "https://localhost:8080/"
        },
        "id": "YIr3XjZ5ZxmJ",
        "outputId": "774178eb-3555-446b-f7e5-2fa37d5d32fc"
      },
      "execution_count": 5,
      "outputs": [
        {
          "name": "stdout",
          "output_type": "stream",
          "text": [
            "¿Qué nota has sacado en Matemáticas? 15\n",
            "¿Qué nota has sacado en Física? 14\n",
            "¿Qué nota has sacado en Química? 16\n",
            "¿Qué nota has sacado en Historia? 02\n",
            "¿Qué nota has sacado en Lengua? 01\n"
          ]
        }
      ]
    },
    {
      "cell_type": "code",
      "source": [
        "numeros_loteria = np.zeros(6, dtype=int)\n",
        "\n",
        "for i in range(6):\n",
        "    numero = int(input(f\"Introduce el número {i+1} ganador de la lotería primitiva: \"))\n",
        "    numeros_loteria[i] = numero\n",
        "\n",
        "numeros_ordenados = np.sort(numeros_loteria)"
      ],
      "metadata": {
        "colab": {
          "base_uri": "https://localhost:8080/"
        },
        "id": "c05RRkxBZ3r5",
        "outputId": "19d1f528-010d-4795-dc1a-9437efc6eb08"
      },
      "execution_count": 6,
      "outputs": [
        {
          "name": "stdout",
          "output_type": "stream",
          "text": [
            "Introduce el número 1 ganador de la lotería primitiva: 25\n",
            "Introduce el número 2 ganador de la lotería primitiva: 15\n",
            "Introduce el número 3 ganador de la lotería primitiva: 16\n",
            "Introduce el número 4 ganador de la lotería primitiva: 1\n",
            "Introduce el número 5 ganador de la lotería primitiva: 78\n",
            "Introduce el número 6 ganador de la lotería primitiva: 56\n"
          ]
        }
      ]
    },
    {
      "cell_type": "code",
      "source": [
        "numeros = np.arange(1, 11)\n",
        "numeros_inverso = np.flip(numeros)\n",
        "resultado_string = \" , \".join(map(str, numeros_inverso))\n",
        "print(resultado_string)"
      ],
      "metadata": {
        "colab": {
          "base_uri": "https://localhost:8080/"
        },
        "id": "3v7uc8pIaCVC",
        "outputId": "8cf7682b-8c93-4de5-8d03-7b962f425cc4"
      },
      "execution_count": 7,
      "outputs": [
        {
          "output_type": "stream",
          "name": "stdout",
          "text": [
            "10 , 9 , 8 , 7 , 6 , 5 , 4 , 3 , 2 , 1\n"
          ]
        }
      ]
    },
    {
      "cell_type": "code",
      "source": [
        "import string\n",
        "import numpy as np\n",
        "\n",
        "abecedario = np.array(list(string.ascii_lowercase))\n",
        "posiciones = np.arange(1, len(abecedario) + 1)\n",
        "mask = posiciones % 3 != 0\n",
        "abecedario_filtrado = abecedario[mask]\n",
        "print(abecedario_filtrado)"
      ],
      "metadata": {
        "colab": {
          "base_uri": "https://localhost:8080/"
        },
        "id": "3Pz3xLmkaIOp",
        "outputId": "c830b751-ca83-4ff6-b044-3a01ab7668a9"
      },
      "execution_count": 8,
      "outputs": [
        {
          "output_type": "stream",
          "name": "stdout",
          "text": [
            "['a' 'b' 'd' 'e' 'g' 'h' 'j' 'k' 'm' 'n' 'p' 'q' 's' 't' 'v' 'w' 'y' 'z']\n"
          ]
        }
      ]
    },
    {
      "cell_type": "code",
      "source": [
        "palabra = input(\"Introduce una palabra: \").lower()\n",
        "palabra_array = np.array(list(palabra))\n",
        "palabra_invertida = np.flip(palabra_array)\n",
        "es_palindromo = np.array_equal(palabra_array, palabra_invertida)"
      ],
      "metadata": {
        "colab": {
          "base_uri": "https://localhost:8080/"
        },
        "id": "1eqEDIcQak_C",
        "outputId": "0ea8995e-4d48-4f21-a677-aaeed831f3a8"
      },
      "execution_count": 9,
      "outputs": [
        {
          "name": "stdout",
          "output_type": "stream",
          "text": [
            "Introduce una palabra: HOLA\n"
          ]
        }
      ]
    },
    {
      "cell_type": "code",
      "source": [
        "import numpy as np\n",
        "\n",
        "palabra = input(\"Introduce una palabra: \").lower()\n",
        "palabra_array = np.array(list(palabra))\n",
        "vocales = np.array(['a', 'e', 'i', 'o', 'u'])\n",
        "\n",
        "print(f\"La palabra '{palabra}' contiene:\")\n",
        "\n",
        "for vocal in vocales:\n",
        "    count = np.sum(palabra_array == vocal)\n",
        "    print(f\"- La vocal '{vocal}' aparece {count} veces.\")"
      ],
      "metadata": {
        "colab": {
          "base_uri": "https://localhost:8080/"
        },
        "id": "J_qoloIOarmi",
        "outputId": "4ab0132a-944e-40f6-86ef-4039b9135e42"
      },
      "execution_count": 10,
      "outputs": [
        {
          "output_type": "stream",
          "name": "stdout",
          "text": [
            "Introduce una palabra: OLA\n",
            "La palabra 'ola' contiene:\n",
            "- La vocal 'a' aparece 1 veces.\n",
            "- La vocal 'e' aparece 0 veces.\n",
            "- La vocal 'i' aparece 0 veces.\n",
            "- La vocal 'o' aparece 1 veces.\n",
            "- La vocal 'u' aparece 0 veces.\n"
          ]
        }
      ]
    },
    {
      "cell_type": "code",
      "source": [
        "import numpy as np\n",
        "\n",
        "precios_lista = [50, 75, 46, 22, 80, 65, 8]\n",
        "precios_array = np.array(precios_lista)\n",
        "\n",
        "precio_menor = np.min(precios_array)\n",
        "precio_mayor = np.max(precios_array)\n",
        "\n",
        "print(f\"Los precios son: {precios_lista}\")\n",
        "print(f\"El menor precio es: {precio_menor}\")\n",
        "print(f\"El mayor precio es: {precio_mayor}\")"
      ],
      "metadata": {
        "colab": {
          "base_uri": "https://localhost:8080/"
        },
        "id": "dvqMFXI9auxB",
        "outputId": "84b93c41-1539-4c40-9271-68b7808679a5"
      },
      "execution_count": 11,
      "outputs": [
        {
          "output_type": "stream",
          "name": "stdout",
          "text": [
            "Los precios son: [50, 75, 46, 22, 80, 65, 8]\n",
            "El menor precio es: 8\n",
            "El mayor precio es: 80\n"
          ]
        }
      ]
    },
    {
      "cell_type": "code",
      "source": [
        "import numpy as np\n",
        "\n",
        "vector1_list = [1, 2, 3]\n",
        "vector2_list = [-1, 0, 2]\n",
        "\n",
        "vector1 = np.array(vector1_list)\n",
        "vector2 = np.array(vector2_list)\n",
        "\n",
        "producto_escalar = np.dot(vector1, vector2)\n",
        "\n",
        "print(f\"El vector 1 es: {vector1_list}\")\n",
        "print(f\"El vector 2 es: {vector2_list}\")\n",
        "print(f\"El producto escalar es: {producto_escalar}\")"
      ],
      "metadata": {
        "colab": {
          "base_uri": "https://localhost:8080/"
        },
        "id": "aDZWglzxaz3Z",
        "outputId": "f680fc6d-2138-4abf-a27d-b116fe25b3e0"
      },
      "execution_count": 12,
      "outputs": [
        {
          "output_type": "stream",
          "name": "stdout",
          "text": [
            "El vector 1 es: [1, 2, 3]\n",
            "El vector 2 es: [-1, 0, 2]\n",
            "El producto escalar es: 5\n"
          ]
        }
      ]
    },
    {
      "cell_type": "code",
      "source": [
        "import numpy as np\n",
        "\n",
        "matriz1_list = [[1, 2], [3, 4]]\n",
        "matriz2_list = [[5, 6], [7, 8]]\n",
        "\n",
        "matriz1 = np.array(matriz1_list)\n",
        "matriz2 = np.array(matriz2_list)\n",
        "\n",
        "if matriz1.shape[1] == matriz2.shape[0]:\n",
        "    producto_matrices = np.dot(matriz1, matriz2)\n",
        "\n",
        "    print(\"Matriz 1:\")\n",
        "    display(matriz1)\n",
        "\n",
        "    print(\"\\nMatriz 2:\")\n",
        "    display(matriz2)\n",
        "\n",
        "    print(\"\\nProducto de las matrices:\")\n",
        "    display(producto_matrices)\n",
        "else:\n",
        "    print(\"Las matrices no se pueden multiplicar. El número de columnas de la primera matriz debe ser igual al número de filas de la segunda.\")"
      ],
      "metadata": {
        "colab": {
          "base_uri": "https://localhost:8080/",
          "height": 208
        },
        "id": "eSLPE2oma4MC",
        "outputId": "7759e623-80b2-46b2-cb10-1796ac7f6779"
      },
      "execution_count": 17,
      "outputs": [
        {
          "output_type": "stream",
          "name": "stdout",
          "text": [
            "Matriz 1:\n"
          ]
        },
        {
          "output_type": "display_data",
          "data": {
            "text/plain": [
              "array([[1, 2],\n",
              "       [3, 4]])"
            ]
          },
          "metadata": {}
        },
        {
          "output_type": "stream",
          "name": "stdout",
          "text": [
            "\n",
            "Matriz 2:\n"
          ]
        },
        {
          "output_type": "display_data",
          "data": {
            "text/plain": [
              "array([[5, 6],\n",
              "       [7, 8]])"
            ]
          },
          "metadata": {}
        },
        {
          "output_type": "stream",
          "name": "stdout",
          "text": [
            "\n",
            "Producto de las matrices:\n"
          ]
        },
        {
          "output_type": "display_data",
          "data": {
            "text/plain": [
              "array([[19, 22],\n",
              "       [43, 50]])"
            ]
          },
          "metadata": {}
        }
      ]
    },
    {
      "cell_type": "code",
      "source": [
        "import numpy as np\n",
        "\n",
        "numeros_str = input(\"Introduce una muestra de números separados por comas: \")\n",
        "\n",
        "numeros_lista = [float(num.strip()) for num in numeros_str.split(',')]\n",
        "\n",
        "numeros_array = np.array(numeros_lista)\n",
        "\n",
        "media = np.mean(numeros_array)\n",
        "desviacion_tipica = np.std(numeros_array)\n",
        "\n",
        "print(f\"La muestra de números es: {numeros_lista}\")\n",
        "print(f\"La media es: {media}\")\n",
        "print(f\"La desviación típica es: {desviacion_tipica}\")"
      ],
      "metadata": {
        "colab": {
          "base_uri": "https://localhost:8080/"
        },
        "id": "qmFFNwe6a7px",
        "outputId": "4f775099-45a5-4bd9-a360-2e686e4b48a0"
      },
      "execution_count": 16,
      "outputs": [
        {
          "output_type": "stream",
          "name": "stdout",
          "text": [
            "Introduce una muestra de números separados por comas: 14,2,5,8,7,1,4,7,6,565,4,7,4,8\n",
            "La muestra de números es: [14.0, 2.0, 5.0, 8.0, 7.0, 1.0, 4.0, 7.0, 6.0, 565.0, 4.0, 7.0, 4.0, 8.0]\n",
            "La media es: 45.857142857142854\n",
            "La desviación típica es: 144.016297263716\n"
          ]
        }
      ]
    }
  ]
}